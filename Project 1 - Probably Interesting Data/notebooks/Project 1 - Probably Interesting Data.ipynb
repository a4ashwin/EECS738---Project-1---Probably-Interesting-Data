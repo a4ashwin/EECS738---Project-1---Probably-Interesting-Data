{
 "cells": [
  {
   "cell_type": "markdown",
   "metadata": {},
   "source": [
    "# Project 1 - Probably Interesting Data.\n",
    " - EECS 738 Project 1\n",
    " - Author: Ashwin Rathore\n",
    "\n",
    "## Problem Statement\n",
    "### Distribution estimation\n",
    "1. Set up a new git repository in your GitHub account\n",
    "2. Pick two datasets from https://www.kaggle.com/uciml/datasets\n",
    "3. Choose a programming language (Python, C/C++, Java)\n",
    "4. Formulate ideas on how machine learning can be used to model distributions within the dataset\n",
    "5. Build a heuristic and/or algorithm to model the data using mixture models of probability distributions programmatically\n",
    "6. Document your process and results\n",
    "7. Commit your source code, documentation and other supporting files to the git repository in GitHub\n",
    "\n",
    "## Goal\n",
    "Our goal is to build a heuristic and/or algorithm to model the data using mixture models of probability distributions programmatically"
   ]
  },
  {
   "cell_type": "markdown",
   "metadata": {},
   "source": [
    "Import all libraries and data from the file."
   ]
  },
  {
   "cell_type": "code",
   "execution_count": 72,
   "metadata": {},
   "outputs": [],
   "source": [
    "import pandas as pd\n",
    "import numpy as np\n",
    "import random as rand\n",
    "import matplotlib.pyplot as plt\n",
    "from scipy.stats import norm\n",
    "from sys import maxsize"
   ]
  },
  {
   "cell_type": "markdown",
   "metadata": {},
   "source": [
    "Importing the data from Haberman.data file in to pandas dataframe"
   ]
  },
  {
   "cell_type": "code",
   "execution_count": null,
   "metadata": {},
   "outputs": [],
   "source": [
    "df = pd.read_csv(r'C:\\Stuff\\KU Study\\EECS 738 Machine Learning\\Projects\\Project 1 - Probably Interesting Data\\data\\external\\haberman.data')"
   ]
  },
  {
   "cell_type": "markdown",
   "metadata": {},
   "source": [
    "Let's check the top rows of the dataset."
   ]
  },
  {
   "cell_type": "code",
   "execution_count": 73,
   "metadata": {},
   "outputs": [
    {
     "data": {
      "text/html": [
       "<div>\n",
       "<style scoped>\n",
       "    .dataframe tbody tr th:only-of-type {\n",
       "        vertical-align: middle;\n",
       "    }\n",
       "\n",
       "    .dataframe tbody tr th {\n",
       "        vertical-align: top;\n",
       "    }\n",
       "\n",
       "    .dataframe thead th {\n",
       "        text-align: right;\n",
       "    }\n",
       "</style>\n",
       "<table border=\"1\" class=\"dataframe\">\n",
       "  <thead>\n",
       "    <tr style=\"text-align: right;\">\n",
       "      <th></th>\n",
       "      <th>age_of_patient</th>\n",
       "      <th>year_of_operation</th>\n",
       "      <th>no_of_positive_axillary_nodes_detected</th>\n",
       "      <th>survival_status</th>\n",
       "    </tr>\n",
       "  </thead>\n",
       "  <tbody>\n",
       "    <tr>\n",
       "      <th>0</th>\n",
       "      <td>30</td>\n",
       "      <td>64</td>\n",
       "      <td>1</td>\n",
       "      <td>1</td>\n",
       "    </tr>\n",
       "    <tr>\n",
       "      <th>1</th>\n",
       "      <td>30</td>\n",
       "      <td>62</td>\n",
       "      <td>3</td>\n",
       "      <td>1</td>\n",
       "    </tr>\n",
       "    <tr>\n",
       "      <th>2</th>\n",
       "      <td>30</td>\n",
       "      <td>65</td>\n",
       "      <td>0</td>\n",
       "      <td>1</td>\n",
       "    </tr>\n",
       "    <tr>\n",
       "      <th>3</th>\n",
       "      <td>31</td>\n",
       "      <td>59</td>\n",
       "      <td>2</td>\n",
       "      <td>1</td>\n",
       "    </tr>\n",
       "    <tr>\n",
       "      <th>4</th>\n",
       "      <td>31</td>\n",
       "      <td>65</td>\n",
       "      <td>4</td>\n",
       "      <td>1</td>\n",
       "    </tr>\n",
       "  </tbody>\n",
       "</table>\n",
       "</div>"
      ],
      "text/plain": [
       "   age_of_patient  year_of_operation  no_of_positive_axillary_nodes_detected  \\\n",
       "0              30                 64                                       1   \n",
       "1              30                 62                                       3   \n",
       "2              30                 65                                       0   \n",
       "3              31                 59                                       2   \n",
       "4              31                 65                                       4   \n",
       "\n",
       "   survival_status  \n",
       "0                1  \n",
       "1                1  \n",
       "2                1  \n",
       "3                1  \n",
       "4                1  "
      ]
     },
     "execution_count": 73,
     "metadata": {},
     "output_type": "execute_result"
    }
   ],
   "source": [
    "df.head()"
   ]
  },
  {
   "cell_type": "markdown",
   "metadata": {},
   "source": [
    "#### Step 2: Data Analysis and Feature Engineering"
   ]
  },
  {
   "cell_type": "markdown",
   "metadata": {},
   "source": [
    "Check the number of samples in the dataset"
   ]
  },
  {
   "cell_type": "code",
   "execution_count": 74,
   "metadata": {},
   "outputs": [
    {
     "data": {
      "text/plain": [
       "(306, 4)"
      ]
     },
     "execution_count": 74,
     "metadata": {},
     "output_type": "execute_result"
    }
   ],
   "source": [
    "df.shape"
   ]
  },
  {
   "cell_type": "markdown",
   "metadata": {},
   "source": [
    "We have 306 samples in this dataset. \n",
    "Our goal is to build a heuristic and/or algorithm to model the data using mixture models of probability distributions programmatically.\n",
    "Let's drop \"year_of_operation\"  and \"survival_status\" the columns and look at the dataset as we are going to apply Estimation Maximization algorithm based on the other two columns."
   ]
  },
  {
   "cell_type": "code",
   "execution_count": 75,
   "metadata": {},
   "outputs": [
    {
     "data": {
      "text/html": [
       "<div>\n",
       "<style scoped>\n",
       "    .dataframe tbody tr th:only-of-type {\n",
       "        vertical-align: middle;\n",
       "    }\n",
       "\n",
       "    .dataframe tbody tr th {\n",
       "        vertical-align: top;\n",
       "    }\n",
       "\n",
       "    .dataframe thead th {\n",
       "        text-align: right;\n",
       "    }\n",
       "</style>\n",
       "<table border=\"1\" class=\"dataframe\">\n",
       "  <thead>\n",
       "    <tr style=\"text-align: right;\">\n",
       "      <th></th>\n",
       "      <th>age_of_patient</th>\n",
       "      <th>no_of_positive_axillary_nodes_detected</th>\n",
       "    </tr>\n",
       "  </thead>\n",
       "  <tbody>\n",
       "    <tr>\n",
       "      <th>0</th>\n",
       "      <td>30</td>\n",
       "      <td>1</td>\n",
       "    </tr>\n",
       "    <tr>\n",
       "      <th>1</th>\n",
       "      <td>30</td>\n",
       "      <td>3</td>\n",
       "    </tr>\n",
       "    <tr>\n",
       "      <th>2</th>\n",
       "      <td>30</td>\n",
       "      <td>0</td>\n",
       "    </tr>\n",
       "    <tr>\n",
       "      <th>3</th>\n",
       "      <td>31</td>\n",
       "      <td>2</td>\n",
       "    </tr>\n",
       "    <tr>\n",
       "      <th>4</th>\n",
       "      <td>31</td>\n",
       "      <td>4</td>\n",
       "    </tr>\n",
       "  </tbody>\n",
       "</table>\n",
       "</div>"
      ],
      "text/plain": [
       "   age_of_patient  no_of_positive_axillary_nodes_detected\n",
       "0              30                                       1\n",
       "1              30                                       3\n",
       "2              30                                       0\n",
       "3              31                                       2\n",
       "4              31                                       4"
      ]
     },
     "execution_count": 75,
     "metadata": {},
     "output_type": "execute_result"
    }
   ],
   "source": [
    "df = df.drop([\"year_of_operation\",\"survival_status\"],axis='columns')\n",
    "df.head()"
   ]
  },
  {
   "cell_type": "markdown",
   "metadata": {},
   "source": [
    "Now we check the missing data in the dataset"
   ]
  },
  {
   "cell_type": "code",
   "execution_count": 76,
   "metadata": {},
   "outputs": [
    {
     "data": {
      "text/plain": [
       "age_of_patient                            0\n",
       "no_of_positive_axillary_nodes_detected    0\n",
       "dtype: int64"
      ]
     },
     "execution_count": 76,
     "metadata": {},
     "output_type": "execute_result"
    }
   ],
   "source": [
    "df.isnull().sum()"
   ]
  },
  {
   "cell_type": "markdown",
   "metadata": {},
   "source": [
    "We are going to implement Gaussian Mixture model for this project. GMMs is probabilistic model that assumes all the data points are generated from a mixture of different Gaussian distributions with unknown parameters.\n",
    "First we are going to intialize the parameters with some random values:\n",
    "        lambda: initial probabilities of the clusters,\n",
    "        myu: means of clusters ,\n",
    "        sigma: standard Diviation of clusters for objects"
   ]
  },
  {
   "cell_type": "code",
   "execution_count": 151,
   "metadata": {},
   "outputs": [],
   "source": [
    "initial = { 'myu1': [4,4],\n",
    "          'sigma1': [ [0.5, 0.5], [0.5, 0.5] ],\n",
    "          'myu2': [4,4],\n",
    "          'sigma2': [ [0.5, 0.5], [0.5, 0.5] ],\n",
    "          'lambda': [0.5, 0.5]\n",
    "        }"
   ]
  },
  {
   "cell_type": "markdown",
   "metadata": {},
   "source": [
    "The probability function that a point came from a Guassian with given parameters is defined.\n",
    "The function takes each sample and calculate probability for each attribute"
   ]
  },
  {
   "cell_type": "code",
   "execution_count": 152,
   "metadata": {},
   "outputs": [],
   "source": [
    "def probability(value, myu, sigma, lamb):\n",
    "    # assigning probability to a local variable\n",
    "  prob = lamb        \n",
    "    #Looping over the values of attributes for a single sample to find the probability   \n",
    "  for i in range(len(value)):\n",
    "    #applying Probability distribution function to find the resulting probability\n",
    "    prob *= norm.pdf(value[i], myu[i], sigma[i][i])\n",
    "  return prob"
   ]
  },
  {
   "cell_type": "markdown",
   "metadata": {},
   "source": [
    "Below is the Expectation function. It performs probabilistic assignments of each data point to some class based on the current hypothesis for the distributional class parameters. During this we are calculating the expected value of cluster assignments."
   ]
  },
  {
   "cell_type": "code",
   "execution_count": 153,
   "metadata": {},
   "outputs": [],
   "source": [
    "#The function takes dataframe and parameters which we defined earlier\n",
    "def expectation(dF, parameters):\n",
    "    #looping over the samples present in the Dataframe\n",
    "  for i in range(dF.shape[0]):\n",
    "    #taking the attribute values of current sample in the variables t and u\n",
    "    t = dF['age_of_patient'][i]\n",
    "    u = dF['no_of_positive_axillary_nodes_detected'][i]\n",
    "    #passing the current sample's attribute values to the probability function along with the paramaters of each clusters\n",
    "    #to calculate the probability of belonging of the sample to that cluster.\n",
    "    p_cluster1 = probability([t, u], list(parameters['myu1']), list(parameters['sigma1']), parameters['lambda'][0] )\n",
    "    p_cluster2 = probability([t, u], list(parameters['myu2']), list(parameters['sigma2']), parameters['lambda'][1] )\n",
    "    #assigning the sample to the cluster whose probability is greater than the other. \n",
    "    if p_cluster1 > p_cluster2:\n",
    "      dF['label'][i] = 1\n",
    "    else:\n",
    "      dF['label'][i] = 2\n",
    "  return dF\n"
   ]
  },
  {
   "cell_type": "markdown",
   "metadata": {},
   "source": [
    "Below is the maximization funtion. It updates the hypothesis for the distributional class parameters based on the new data assignments. During this we are calculating a new maximum likelihood for our hypothesis."
   ]
  },
  {
   "cell_type": "code",
   "execution_count": 154,
   "metadata": {},
   "outputs": [],
   "source": [
    "#The function takes dataframe and parameters which we defined earlier\n",
    "def maximization(dF, parameters):\n",
    "    #Separating the points in cluster 1 and cluster 2.\n",
    "  points_cluster1 = dF.loc[dF['label'] == 1]\n",
    "  points_cluster2 = dF.loc[dF['label'] == 2]  \n",
    "    #Finding the percentage of points which belongs to the cluster1 and cluster2 with respect to the total samples.\n",
    "  percent_cluster1 = len(points_cluster1) / float(len(dF))\n",
    "  percent_cluster2 = 1 - percent_cluster1\n",
    "    #Set up the lambda again\n",
    "  parameters['lambda'] = [percent_cluster1, percent_cluster2 ]\n",
    "    #Applying mean() function to calculate average of attributes and set the parameters\n",
    "  parameters['myu1'] = [points_cluster1['age_of_patient'].mean(), points_cluster1['no_of_positive_axillary_nodes_detected'].mean()]\n",
    "  parameters['myu2'] = [points_cluster2['age_of_patient'].mean(), points_cluster2['no_of_positive_axillary_nodes_detected'].mean()]\n",
    "    #Applying  function std() to calculate standard deviation of attributes and set the parameters\n",
    "  parameters['sigma1'] = [ [points_cluster1['age_of_patient'].std(), 0 ], [ 0, points_cluster1['no_of_positive_axillary_nodes_detected'].std() ] ]\n",
    "  parameters['sigma2'] = [ [points_cluster2['age_of_patient'].std(), 0 ], [ 0, points_cluster2['no_of_positive_axillary_nodes_detected'].std() ] ]\n",
    "  return parameters"
   ]
  },
  {
   "cell_type": "markdown",
   "metadata": {},
   "source": [
    "Below we are defining a distance function to calculate distance between the old and new parameteres."
   ]
  },
  {
   "cell_type": "code",
   "execution_count": 155,
   "metadata": {},
   "outputs": [],
   "source": [
    "def distance(old_parameters, new_parameters):\n",
    "  distance = 0\n",
    "    #looping for myu1 and myu2\n",
    "  for p in ['myu1', 'myu2']:\n",
    "    #looping on old parameters\n",
    "    for i in range(len(old_parameters)):\n",
    "        #calculating distance between old and new parameters by squaring them to get positive values\n",
    "      distance += (old_parameters[p][i] - new_parameters[p][i]) ** 2\n",
    "    #returning the squareroot of distance to equalize the square in previous step.\n",
    "  return distance ** 0.5"
   ]
  },
  {
   "cell_type": "markdown",
   "metadata": {},
   "source": [
    "Initializing the variables needed for the algorithms loop"
   ]
  },
  {
   "cell_type": "code",
   "execution_count": 167,
   "metadata": {},
   "outputs": [
    {
     "name": "stdout",
     "output_type": "stream",
     "text": [
      "\n"
     ]
    }
   ],
   "source": [
    "#maxsize attribute of the sys module fetches the largest value a variable which depends on the system architecture\n",
    "max = maxsize\n",
    "#eps has a minimum initial value\n",
    "eps = 0.01\n",
    "#number of iterations\n",
    "iterations = 0\n",
    "#copy of original dataframe\n",
    "df_copy = df.copy()\n",
    "# randomly assigning samples to on of the clusters\n",
    "data = np.random.randint(1,3,size=306)\n",
    "df_copy['label'] = pd.DataFrame(data)\n",
    "print()\n",
    "#df_copy['label'] = map(lambda x: x+1, np.random.choice(2, len(df)))\n",
    "#creating parameters dataframe of the original dataframe\n",
    "params = pd.DataFrame(maximization(df_copy,initial))"
   ]
  },
  {
   "cell_type": "markdown",
   "metadata": {},
   "source": [
    "We are putting a while loop which will run untill the expectation of the distance between the parameters found out to be 0 or the parameters converges to the optimal values. We will be plotting the Graph with \"age_of_patients\" and 'no_of_positive_axillary_nodes_detected' features and the color of points in graph shows the cluster that the samples belong to."
   ]
  },
  {
   "cell_type": "code",
   "execution_count": null,
   "metadata": {},
   "outputs": [],
   "source": [
    "while max > eps:\n",
    "  iterations += 1\n",
    "  # Calling the expectation function.\n",
    "  new_labels = expectation(df_copy.copy(), params)\n",
    "\n",
    "  # Calling the maximization function\n",
    "  new_parameters = maximization(new_labels, params.copy())\n",
    "\n",
    "  # Calculating the difference between old and new parameters\n",
    "  max = distance(params, new_parameters)\n",
    "\n",
    "  # logging\n",
    "  print(\"iteration {}, shift {}\".format(iterations, max))\n",
    "\n",
    "  # update labels and params for the next iteration\n",
    "  df_copy = new_labels\n",
    "  params = new_parameters\n",
    "    #Plotting figure with label and attribute values\n",
    "  fig = plt.figure()\n",
    "  plt.scatter(df_copy['age_of_patient'], df_copy['no_of_positive_axillary_nodes_detected'], 24, c=df_copy['label'])\n",
    "  fig.savefig(\"iteration{}.png\".format(iterations))\n"
   ]
  },
  {
   "cell_type": "markdown",
   "metadata": {},
   "source": []
  },
  {
   "cell_type": "markdown",
   "metadata": {},
   "source": [
    "Importing the data from Real_estate_valuation_data_set.csv file in to pandas dataframe"
   ]
  },
  {
   "cell_type": "code",
   "execution_count": 261,
   "metadata": {},
   "outputs": [],
   "source": [
    "df = pd.read_csv(r'C:\\Stuff\\KU Study\\EECS 738 Machine Learning\\Projects\\Project 1 - Probably Interesting Data\\data\\external\\Real_estate_valuation_data_set.csv')"
   ]
  },
  {
   "cell_type": "markdown",
   "metadata": {},
   "source": [
    "Let's check the top rows of the dataset."
   ]
  },
  {
   "cell_type": "code",
   "execution_count": 262,
   "metadata": {},
   "outputs": [
    {
     "data": {
      "text/html": [
       "<div>\n",
       "<style scoped>\n",
       "    .dataframe tbody tr th:only-of-type {\n",
       "        vertical-align: middle;\n",
       "    }\n",
       "\n",
       "    .dataframe tbody tr th {\n",
       "        vertical-align: top;\n",
       "    }\n",
       "\n",
       "    .dataframe thead th {\n",
       "        text-align: right;\n",
       "    }\n",
       "</style>\n",
       "<table border=\"1\" class=\"dataframe\">\n",
       "  <thead>\n",
       "    <tr style=\"text-align: right;\">\n",
       "      <th></th>\n",
       "      <th>No</th>\n",
       "      <th>transaction_date</th>\n",
       "      <th>house_age</th>\n",
       "      <th>distance_to_the_nearest_MRT_station</th>\n",
       "      <th>number_of_convenience_stores</th>\n",
       "      <th>latitude</th>\n",
       "      <th>longitude</th>\n",
       "      <th>house_price_of_unit_area</th>\n",
       "    </tr>\n",
       "  </thead>\n",
       "  <tbody>\n",
       "    <tr>\n",
       "      <th>0</th>\n",
       "      <td>1</td>\n",
       "      <td>2012.917</td>\n",
       "      <td>32.0</td>\n",
       "      <td>84.87882</td>\n",
       "      <td>10</td>\n",
       "      <td>24.98298</td>\n",
       "      <td>121.54024</td>\n",
       "      <td>37.9</td>\n",
       "    </tr>\n",
       "    <tr>\n",
       "      <th>1</th>\n",
       "      <td>2</td>\n",
       "      <td>2012.917</td>\n",
       "      <td>19.5</td>\n",
       "      <td>306.59470</td>\n",
       "      <td>9</td>\n",
       "      <td>24.98034</td>\n",
       "      <td>121.53951</td>\n",
       "      <td>42.2</td>\n",
       "    </tr>\n",
       "    <tr>\n",
       "      <th>2</th>\n",
       "      <td>3</td>\n",
       "      <td>2013.583</td>\n",
       "      <td>13.3</td>\n",
       "      <td>561.98450</td>\n",
       "      <td>5</td>\n",
       "      <td>24.98746</td>\n",
       "      <td>121.54391</td>\n",
       "      <td>47.3</td>\n",
       "    </tr>\n",
       "    <tr>\n",
       "      <th>3</th>\n",
       "      <td>4</td>\n",
       "      <td>2013.500</td>\n",
       "      <td>13.3</td>\n",
       "      <td>561.98450</td>\n",
       "      <td>5</td>\n",
       "      <td>24.98746</td>\n",
       "      <td>121.54391</td>\n",
       "      <td>54.8</td>\n",
       "    </tr>\n",
       "    <tr>\n",
       "      <th>4</th>\n",
       "      <td>5</td>\n",
       "      <td>2012.833</td>\n",
       "      <td>5.0</td>\n",
       "      <td>390.56840</td>\n",
       "      <td>5</td>\n",
       "      <td>24.97937</td>\n",
       "      <td>121.54245</td>\n",
       "      <td>43.1</td>\n",
       "    </tr>\n",
       "  </tbody>\n",
       "</table>\n",
       "</div>"
      ],
      "text/plain": [
       "   No  transaction_date  house_age  distance_to_the_nearest_MRT_station  \\\n",
       "0   1          2012.917       32.0                             84.87882   \n",
       "1   2          2012.917       19.5                            306.59470   \n",
       "2   3          2013.583       13.3                            561.98450   \n",
       "3   4          2013.500       13.3                            561.98450   \n",
       "4   5          2012.833        5.0                            390.56840   \n",
       "\n",
       "   number_of_convenience_stores  latitude  longitude  house_price_of_unit_area  \n",
       "0                            10  24.98298  121.54024                      37.9  \n",
       "1                             9  24.98034  121.53951                      42.2  \n",
       "2                             5  24.98746  121.54391                      47.3  \n",
       "3                             5  24.98746  121.54391                      54.8  \n",
       "4                             5  24.97937  121.54245                      43.1  "
      ]
     },
     "execution_count": 262,
     "metadata": {},
     "output_type": "execute_result"
    }
   ],
   "source": [
    "df.head()"
   ]
  },
  {
   "cell_type": "markdown",
   "metadata": {},
   "source": [
    "#### Step 2: Data Analysis and Feature Engineering"
   ]
  },
  {
   "cell_type": "markdown",
   "metadata": {},
   "source": [
    "Check the number of samples in the dataset"
   ]
  },
  {
   "cell_type": "code",
   "execution_count": 263,
   "metadata": {},
   "outputs": [
    {
     "data": {
      "text/plain": [
       "(414, 8)"
      ]
     },
     "execution_count": 263,
     "metadata": {},
     "output_type": "execute_result"
    }
   ],
   "source": [
    "df.shape"
   ]
  },
  {
   "cell_type": "markdown",
   "metadata": {},
   "source": [
    "We have 414 samples in this dataset. \n",
    "Our goal is to build a heuristic and/or algorithm to model the data using mixture models of probability distributions programmatically.\n",
    "Let's drop \"transaction_date\" , \"latitude\", \"longitude\" and \"No\" the columns and look at the dataset as we are going to apply Estimation Maximization algorithm based on the other two columns."
   ]
  },
  {
   "cell_type": "code",
   "execution_count": 264,
   "metadata": {},
   "outputs": [
    {
     "data": {
      "text/html": [
       "<div>\n",
       "<style scoped>\n",
       "    .dataframe tbody tr th:only-of-type {\n",
       "        vertical-align: middle;\n",
       "    }\n",
       "\n",
       "    .dataframe tbody tr th {\n",
       "        vertical-align: top;\n",
       "    }\n",
       "\n",
       "    .dataframe thead th {\n",
       "        text-align: right;\n",
       "    }\n",
       "</style>\n",
       "<table border=\"1\" class=\"dataframe\">\n",
       "  <thead>\n",
       "    <tr style=\"text-align: right;\">\n",
       "      <th></th>\n",
       "      <th>house_age</th>\n",
       "      <th>distance_to_the_nearest_MRT_station</th>\n",
       "      <th>number_of_convenience_stores</th>\n",
       "      <th>house_price_of_unit_area</th>\n",
       "    </tr>\n",
       "  </thead>\n",
       "  <tbody>\n",
       "    <tr>\n",
       "      <th>0</th>\n",
       "      <td>32.0</td>\n",
       "      <td>84.87882</td>\n",
       "      <td>10</td>\n",
       "      <td>37.9</td>\n",
       "    </tr>\n",
       "    <tr>\n",
       "      <th>1</th>\n",
       "      <td>19.5</td>\n",
       "      <td>306.59470</td>\n",
       "      <td>9</td>\n",
       "      <td>42.2</td>\n",
       "    </tr>\n",
       "    <tr>\n",
       "      <th>2</th>\n",
       "      <td>13.3</td>\n",
       "      <td>561.98450</td>\n",
       "      <td>5</td>\n",
       "      <td>47.3</td>\n",
       "    </tr>\n",
       "    <tr>\n",
       "      <th>3</th>\n",
       "      <td>13.3</td>\n",
       "      <td>561.98450</td>\n",
       "      <td>5</td>\n",
       "      <td>54.8</td>\n",
       "    </tr>\n",
       "    <tr>\n",
       "      <th>4</th>\n",
       "      <td>5.0</td>\n",
       "      <td>390.56840</td>\n",
       "      <td>5</td>\n",
       "      <td>43.1</td>\n",
       "    </tr>\n",
       "  </tbody>\n",
       "</table>\n",
       "</div>"
      ],
      "text/plain": [
       "   house_age  distance_to_the_nearest_MRT_station  \\\n",
       "0       32.0                             84.87882   \n",
       "1       19.5                            306.59470   \n",
       "2       13.3                            561.98450   \n",
       "3       13.3                            561.98450   \n",
       "4        5.0                            390.56840   \n",
       "\n",
       "   number_of_convenience_stores  house_price_of_unit_area  \n",
       "0                            10                      37.9  \n",
       "1                             9                      42.2  \n",
       "2                             5                      47.3  \n",
       "3                             5                      54.8  \n",
       "4                             5                      43.1  "
      ]
     },
     "execution_count": 264,
     "metadata": {},
     "output_type": "execute_result"
    }
   ],
   "source": [
    "df = df.drop([\"transaction_date\",\"No\",\"latitude\", \"longitude\"],axis='columns')\n",
    "df.head()"
   ]
  },
  {
   "cell_type": "markdown",
   "metadata": {},
   "source": [
    "Now we check the missing data in the dataset"
   ]
  },
  {
   "cell_type": "code",
   "execution_count": 265,
   "metadata": {},
   "outputs": [
    {
     "data": {
      "text/plain": [
       "house_age                              0\n",
       "distance_to_the_nearest_MRT_station    0\n",
       "number_of_convenience_stores           0\n",
       "house_price_of_unit_area               0\n",
       "dtype: int64"
      ]
     },
     "execution_count": 265,
     "metadata": {},
     "output_type": "execute_result"
    }
   ],
   "source": [
    "df.isnull().sum()"
   ]
  },
  {
   "cell_type": "code",
   "execution_count": 266,
   "metadata": {
    "scrolled": true
   },
   "outputs": [
    {
     "data": {
      "text/html": [
       "<div>\n",
       "<style scoped>\n",
       "    .dataframe tbody tr th:only-of-type {\n",
       "        vertical-align: middle;\n",
       "    }\n",
       "\n",
       "    .dataframe tbody tr th {\n",
       "        vertical-align: top;\n",
       "    }\n",
       "\n",
       "    .dataframe thead th {\n",
       "        text-align: right;\n",
       "    }\n",
       "</style>\n",
       "<table border=\"1\" class=\"dataframe\">\n",
       "  <thead>\n",
       "    <tr style=\"text-align: right;\">\n",
       "      <th></th>\n",
       "      <th>house_age</th>\n",
       "      <th>distance_to_the_nearest_MRT_station</th>\n",
       "      <th>number_of_convenience_stores</th>\n",
       "      <th>house_price_of_unit_area</th>\n",
       "    </tr>\n",
       "  </thead>\n",
       "  <tbody>\n",
       "    <tr>\n",
       "      <th>0</th>\n",
       "      <td>32.0</td>\n",
       "      <td>84.87882</td>\n",
       "      <td>10</td>\n",
       "      <td>37.9</td>\n",
       "    </tr>\n",
       "    <tr>\n",
       "      <th>1</th>\n",
       "      <td>19.5</td>\n",
       "      <td>306.59470</td>\n",
       "      <td>9</td>\n",
       "      <td>42.2</td>\n",
       "    </tr>\n",
       "    <tr>\n",
       "      <th>2</th>\n",
       "      <td>13.3</td>\n",
       "      <td>561.98450</td>\n",
       "      <td>5</td>\n",
       "      <td>47.3</td>\n",
       "    </tr>\n",
       "    <tr>\n",
       "      <th>3</th>\n",
       "      <td>13.3</td>\n",
       "      <td>561.98450</td>\n",
       "      <td>5</td>\n",
       "      <td>54.8</td>\n",
       "    </tr>\n",
       "    <tr>\n",
       "      <th>4</th>\n",
       "      <td>5.0</td>\n",
       "      <td>390.56840</td>\n",
       "      <td>5</td>\n",
       "      <td>43.1</td>\n",
       "    </tr>\n",
       "  </tbody>\n",
       "</table>\n",
       "</div>"
      ],
      "text/plain": [
       "   house_age  distance_to_the_nearest_MRT_station  \\\n",
       "0       32.0                             84.87882   \n",
       "1       19.5                            306.59470   \n",
       "2       13.3                            561.98450   \n",
       "3       13.3                            561.98450   \n",
       "4        5.0                            390.56840   \n",
       "\n",
       "   number_of_convenience_stores  house_price_of_unit_area  \n",
       "0                            10                      37.9  \n",
       "1                             9                      42.2  \n",
       "2                             5                      47.3  \n",
       "3                             5                      54.8  \n",
       "4                             5                      43.1  "
      ]
     },
     "execution_count": 266,
     "metadata": {},
     "output_type": "execute_result"
    }
   ],
   "source": [
    "df.head()"
   ]
  },
  {
   "cell_type": "markdown",
   "metadata": {},
   "source": [
    "Let's change the data into int."
   ]
  },
  {
   "cell_type": "code",
   "execution_count": 267,
   "metadata": {
    "scrolled": true
   },
   "outputs": [
    {
     "data": {
      "text/html": [
       "<div>\n",
       "<style scoped>\n",
       "    .dataframe tbody tr th:only-of-type {\n",
       "        vertical-align: middle;\n",
       "    }\n",
       "\n",
       "    .dataframe tbody tr th {\n",
       "        vertical-align: top;\n",
       "    }\n",
       "\n",
       "    .dataframe thead th {\n",
       "        text-align: right;\n",
       "    }\n",
       "</style>\n",
       "<table border=\"1\" class=\"dataframe\">\n",
       "  <thead>\n",
       "    <tr style=\"text-align: right;\">\n",
       "      <th></th>\n",
       "      <th>house_age</th>\n",
       "      <th>distance_to_the_nearest_MRT_station</th>\n",
       "      <th>number_of_convenience_stores</th>\n",
       "      <th>house_price_of_unit_area</th>\n",
       "    </tr>\n",
       "  </thead>\n",
       "  <tbody>\n",
       "    <tr>\n",
       "      <th>0</th>\n",
       "      <td>32</td>\n",
       "      <td>84</td>\n",
       "      <td>10</td>\n",
       "      <td>37</td>\n",
       "    </tr>\n",
       "    <tr>\n",
       "      <th>1</th>\n",
       "      <td>19</td>\n",
       "      <td>306</td>\n",
       "      <td>9</td>\n",
       "      <td>42</td>\n",
       "    </tr>\n",
       "    <tr>\n",
       "      <th>2</th>\n",
       "      <td>13</td>\n",
       "      <td>561</td>\n",
       "      <td>5</td>\n",
       "      <td>47</td>\n",
       "    </tr>\n",
       "    <tr>\n",
       "      <th>3</th>\n",
       "      <td>13</td>\n",
       "      <td>561</td>\n",
       "      <td>5</td>\n",
       "      <td>54</td>\n",
       "    </tr>\n",
       "    <tr>\n",
       "      <th>4</th>\n",
       "      <td>5</td>\n",
       "      <td>390</td>\n",
       "      <td>5</td>\n",
       "      <td>43</td>\n",
       "    </tr>\n",
       "  </tbody>\n",
       "</table>\n",
       "</div>"
      ],
      "text/plain": [
       "   house_age  distance_to_the_nearest_MRT_station  \\\n",
       "0         32                                   84   \n",
       "1         19                                  306   \n",
       "2         13                                  561   \n",
       "3         13                                  561   \n",
       "4          5                                  390   \n",
       "\n",
       "   number_of_convenience_stores  house_price_of_unit_area  \n",
       "0                            10                        37  \n",
       "1                             9                        42  \n",
       "2                             5                        47  \n",
       "3                             5                        54  \n",
       "4                             5                        43  "
      ]
     },
     "execution_count": 267,
     "metadata": {},
     "output_type": "execute_result"
    }
   ],
   "source": [
    "df=df.astype(int)\n",
    "df.head()"
   ]
  },
  {
   "cell_type": "markdown",
   "metadata": {},
   "source": [
    "We are going to implement Gaussian Mixture model for this project. GMMs is probabilistic model that assumes all the data points are generated from a mixture of different Gaussian distributions with unknown parameters.\n",
    "First we are going to intialize the parameters with some random values:\n",
    "        lambda: initial probabilities of the clusters,\n",
    "        myu: means of clusters ,\n",
    "        sigma: standard Diviation of clusters for objects"
   ]
  },
  {
   "cell_type": "code",
   "execution_count": 268,
   "metadata": {},
   "outputs": [],
   "source": [
    "initial = { 'myu1': [1,1,1,1,1],\n",
    "          'sigma1': [ [1, 0, 0, 0, 0], [0, 1, 0, 0, 0], [0, 0, 1, 0, 0], [0, 0, 0, 1, 0], [0, 0, 0, 0, 1]],\n",
    "          'myu2': [4,4,4,4,4],\n",
    "          'sigma2': [[1, 0, 0, 0, 0], [0, 1, 0, 0, 0], [0, 0, 1, 0, 0], [0, 0, 0, 1, 0], [0, 0, 0, 0, 1]],\n",
    "          'lambda': [0.4, 0.6, 0, 0, 0]\n",
    "        }"
   ]
  },
  {
   "cell_type": "markdown",
   "metadata": {},
   "source": [
    "The probability function that a point came from a Guassian with given parameters is defined.\n",
    "The function takes each sample and calculate probability for each attribute"
   ]
  },
  {
   "cell_type": "code",
   "execution_count": 269,
   "metadata": {},
   "outputs": [],
   "source": [
    "def probability(value, myu, sigma, lamb):\n",
    "    # assigning probability to a local variable\n",
    "  prob = lamb        \n",
    "    #Looping over the values of attributes for a single sample to find the probability   \n",
    "  for i in range(len(value)):\n",
    "    #applying Probability distribution function to find the resulting probability\n",
    "    prob *= norm.pdf(value[i], myu[i], sigma[i][i])\n",
    "  return prob"
   ]
  },
  {
   "cell_type": "markdown",
   "metadata": {},
   "source": [
    "Below is the Expectation function. It performs probabilistic assignments of each data point to some class based on the current hypothesis for the distributional class parameters. During this we are calculating the expected value of cluster assignments."
   ]
  },
  {
   "cell_type": "code",
   "execution_count": 270,
   "metadata": {},
   "outputs": [],
   "source": [
    "#The function takes dataframe and parameters which we defined earlier\n",
    "def expectation(dF, parameters):\n",
    "    #looping over the samples present in the Dataframe\n",
    "  for i in range(dF.shape[0]):\n",
    "    #taking the attribute values of current sample in the variables t and u\n",
    "    w = dF['house_age'][i]\n",
    "    x = dF['distance_to_the_nearest_MRT_station'][i]\n",
    "    y = dF['number_of_convenience_stores'][i]\n",
    "    z = dF['house_price_of_unit_area'][i]\n",
    "    #passing the current sample's attribute values to the probability function along with the paramaters of each clusters\n",
    "    #to calculate the probability of belonging of the sample to that cluster.\n",
    "    p_cluster1 = probability([w, x, y, z], list(parameters['myu1']), list(parameters['sigma1']), parameters['lambda'][0] )\n",
    "    p_cluster2 = probability([w, x, y, z], list(parameters['myu2']), list(parameters['sigma2']), parameters['lambda'][1] )\n",
    "    #assigning the sample to the cluster whose probability is greater than the other. \n",
    "    if p_cluster1 > p_cluster2:\n",
    "      dF['label'][i] = 1\n",
    "    else:\n",
    "      dF['label'][i] = 2\n",
    "  return dF\n"
   ]
  },
  {
   "cell_type": "markdown",
   "metadata": {},
   "source": [
    "Below is the maximization funtion. It updates the hypothesis for the distributional class parameters based on the new data assignments. During this we are calculating a new maximum likelihood for our hypothesis."
   ]
  },
  {
   "cell_type": "code",
   "execution_count": 271,
   "metadata": {},
   "outputs": [],
   "source": [
    "#The function takes dataframe and parameters which we defined earlier\n",
    "def maximization(dF, parameters):\n",
    "    #Separating the points in cluster 1 and cluster 2.\n",
    "  points_cluster1 = dF.loc[dF['label'] == 1]\n",
    "  points_cluster2 = dF.loc[dF['label'] == 2]  \n",
    "    #Finding the percentage of points which belongs to the cluster1 and cluster2 with respect to the total samples.\n",
    "  percent_cluster1 = len(points_cluster1) / float(len(dF))\n",
    "  percent_cluster2 = 1 - percent_cluster1\n",
    "    #Set up the lambda again\n",
    "  parameters['lambda'] = [percent_cluster1, percent_cluster2, 0, 0]\n",
    "    #Applying mean() function to calculate average of attributes and set the parameters\n",
    "  parameters['myu1'] = [ points_cluster1['house_age'].mean(), points_cluster1['distance_to_the_nearest_MRT_station'].mean(), points_cluster1['number_of_convenience_stores'].mean(), points_cluster1['house_price_of_unit_area'].mean()]\n",
    "  parameters['myu2'] = [ points_cluster2['house_age'].mean(), points_cluster2['distance_to_the_nearest_MRT_station'].mean(), points_cluster2['number_of_convenience_stores'].mean(), points_cluster2['house_price_of_unit_area'].mean()]\n",
    "    #Applying  function std() to calculate standard deviation of attributes and set the parameters\n",
    "  parameters['sigma1'] = [  [ points_cluster1['house_age'].std(), 0, 0, 0 ] , [ 0, points_cluster1['distance_to_the_nearest_MRT_station'].std(), 0, 0 ], [ 0, 0, points_cluster1['number_of_convenience_stores'].std(), 0,], [ 0, 0, 0, points_cluster1['house_price_of_unit_area'].std() ]]\n",
    "  parameters['sigma2'] = [  [ points_cluster2['house_age'].std(), 0, 0, 0 ] , [ 0, points_cluster2['distance_to_the_nearest_MRT_station'].std(), 0, 0 ], [ 0, 0, points_cluster2['number_of_convenience_stores'].std(), 0,], [ 0, 0, 0, points_cluster2['house_price_of_unit_area'].std() ]]\n",
    "  return parameters"
   ]
  },
  {
   "cell_type": "markdown",
   "metadata": {},
   "source": [
    "Below we are defining a distance function to calculate distance between the old and new parameteres."
   ]
  },
  {
   "cell_type": "code",
   "execution_count": 272,
   "metadata": {},
   "outputs": [],
   "source": [
    "def distance(old_parameters, new_parameters):\n",
    "  distance = 0\n",
    "    #looping for myu1 and myu2\n",
    "  for p in ['myu1', 'myu2']:\n",
    "    #looping on old parameters\n",
    "    for i in range(len(old_parameters)):\n",
    "        #calculating distance between old and new parameters by squaring them to get positive values\n",
    "      distance += (old_parameters[p][i] - new_parameters[p][i]) ** 2\n",
    "    #returning the squareroot of distance to equalize the square in previous step.\n",
    "  return distance ** 0.5"
   ]
  },
  {
   "cell_type": "markdown",
   "metadata": {},
   "source": [
    "Initializing the variables needed for the algorithms loop"
   ]
  },
  {
   "cell_type": "code",
   "execution_count": 276,
   "metadata": {},
   "outputs": [
    {
     "name": "stdout",
     "output_type": "stream",
     "text": [
      "\n"
     ]
    }
   ],
   "source": [
    "#maxsize attribute of the sys module fetches the largest value a variable which depends on the system architecture\n",
    "max = maxsize\n",
    "#eps has a minimum initial value\n",
    "eps = 0.01\n",
    "#number of iterations\n",
    "iterations = 0\n",
    "#copy of original dataframe\n",
    "df_copy = df.copy()\n",
    "# randomly assigning samples to on of the clusters\n",
    "data = np.random.randint(1,3,size=414)\n",
    "df_copy['label'] = pd.DataFrame(data)\n",
    "print()\n",
    "#df_copy['label'] = map(lambda x: x+1, np.random.choice(2, len(df)))\n",
    "#creating parameters dataframe of the original dataframe\n",
    "params = pd.DataFrame(maximization(df_copy,initial))"
   ]
  },
  {
   "cell_type": "markdown",
   "metadata": {},
   "source": [
    "We are putting a while loop which will run untill the expectation of the distance between the parameters found out to be 0 or the parameters converges to the optimal values. We will be plotting the Graph with \"house_price_of_unit_area\" and 'house_age' features and the color of points in graph shows the cluster that the samples belong to."
   ]
  },
  {
   "cell_type": "code",
   "execution_count": 278,
   "metadata": {},
   "outputs": [
    {
     "name": "stdout",
     "output_type": "stream",
     "text": [
      "iteration 2, shift 133.14579295236658\n",
      "iteration 3, shift 12.814847506234496\n",
      "iteration 4, shift 0.0\n"
     ]
    },
    {
     "data": {
      "image/png": "[encoded data removed]",
      "text/plain": [
       "<Figure size 432x288 with 1 Axes>"
      ]
     },
     "metadata": {
      "needs_background": "light"
     },
     "output_type": "display_data"
    },
    {
     "data": {
      "image/png": "[encoded data removed]",
      "text/plain": [
       "<Figure size 432x288 with 1 Axes>"
      ]
     },
     "metadata": {
      "needs_background": "light"
     },
     "output_type": "display_data"
    },
    {
     "data": {
      "image/png": "[encoded data removed]",
      "text/plain": [
       "<Figure size 432x288 with 1 Axes>"
      ]
     },
     "metadata": {
      "needs_background": "light"
     },
     "output_type": "display_data"
    }
   ],
   "source": [
    "while max > eps:\n",
    "  iterations += 1\n",
    "  # Calling the expectation function.\n",
    "  new_labels = expectation(df_copy.copy(), params)\n",
    "\n",
    "  # Calling the maximization function\n",
    "  new_parameters = maximization(new_labels, params.copy())\n",
    "\n",
    "  # Calculating the difference between old and new parameters\n",
    "  max = distance(params, new_parameters)\n",
    "\n",
    "  # logging\n",
    "  print(\"iteration {}, shift {}\".format(iterations, max))\n",
    "\n",
    "  # update labels and params for the next iteration\n",
    "  df_copy = new_labels\n",
    "  params = new_parameters\n",
    "    #Plotting figure with label and attribute values\n",
    "  fig = plt.figure()\n",
    "  plt.scatter(df_copy['house_age'], df_copy['house_price_of_unit_area'], 24, c=df_copy['label'])\n",
    "  fig.savefig(\"iteration{}.png\".format(iterations))\n"
   ]
  }
 ],
 "metadata": {
  "kernelspec": {
   "display_name": "Python 3",
   "language": "python",
   "name": "python3"
  },
  "language_info": {
   "codemirror_mode": {
    "name": "ipython",
    "version": 3
   },
   "file_extension": ".py",
   "mimetype": "text/x-python",
   "name": "python",
   "nbconvert_exporter": "python",
   "pygments_lexer": "ipython3",
   "version": "3.8.3"
  }
 },
 "nbformat": 4,
 "nbformat_minor": 4
}
